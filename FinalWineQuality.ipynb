{
 "cells": [
  {
   "cell_type": "markdown",
   "metadata": {},
   "source": [
    "# COGS109 Final Project\n",
    "# Topic: White Wine Quality\n",
    "# Team26: Zanyuan Yang, Zheran Li, Zihan Zhang"
   ]
  },
  {
   "cell_type": "code",
   "execution_count": 1,
   "metadata": {},
   "outputs": [],
   "source": [
    "import pandas as pd\n",
    "import matplotlib.pyplot as plt\n",
    "import numpy as np\n",
    "import pandas as pd\n",
    "import seaborn as sns\n",
    "from sklearn.model_selection import train_test_split\n",
    "from sklearn.linear_model import LinearRegression\n",
    "from sklearn import linear_model\n",
    "from sklearn.metrics import mean_squared_error\n",
    "%matplotlib inline"
   ]
  },
  {
   "cell_type": "code",
   "execution_count": 2,
   "metadata": {},
   "outputs": [],
   "source": [
    "#load the wine data\n",
    "df_white = pd.read_csv('whitewine.csv')\n",
    "df_red = pd.read_csv('redwine.csv')"
   ]
  },
  {
   "cell_type": "code",
   "execution_count": 3,
   "metadata": {},
   "outputs": [
    {
     "data": {
      "text/html": [
       "<div>\n",
       "<style scoped>\n",
       "    .dataframe tbody tr th:only-of-type {\n",
       "        vertical-align: middle;\n",
       "    }\n",
       "\n",
       "    .dataframe tbody tr th {\n",
       "        vertical-align: top;\n",
       "    }\n",
       "\n",
       "    .dataframe thead th {\n",
       "        text-align: right;\n",
       "    }\n",
       "</style>\n",
       "<table border=\"1\" class=\"dataframe\">\n",
       "  <thead>\n",
       "    <tr style=\"text-align: right;\">\n",
       "      <th></th>\n",
       "      <th>fixed acidity</th>\n",
       "      <th>volatile acidity</th>\n",
       "      <th>citric acid</th>\n",
       "      <th>residual sugar</th>\n",
       "      <th>chlorides</th>\n",
       "      <th>free sulfur dioxide</th>\n",
       "      <th>total sulfur dioxide</th>\n",
       "      <th>density</th>\n",
       "      <th>pH</th>\n",
       "      <th>sulphates</th>\n",
       "      <th>alcohol</th>\n",
       "      <th>quality</th>\n",
       "    </tr>\n",
       "  </thead>\n",
       "  <tbody>\n",
       "    <tr>\n",
       "      <td>0</td>\n",
       "      <td>7.0</td>\n",
       "      <td>0.27</td>\n",
       "      <td>0.36</td>\n",
       "      <td>20.7</td>\n",
       "      <td>0.045</td>\n",
       "      <td>45.0</td>\n",
       "      <td>170.0</td>\n",
       "      <td>1.00100</td>\n",
       "      <td>3.00</td>\n",
       "      <td>0.45</td>\n",
       "      <td>8.8</td>\n",
       "      <td>6</td>\n",
       "    </tr>\n",
       "    <tr>\n",
       "      <td>1</td>\n",
       "      <td>6.3</td>\n",
       "      <td>0.30</td>\n",
       "      <td>0.34</td>\n",
       "      <td>1.6</td>\n",
       "      <td>0.049</td>\n",
       "      <td>14.0</td>\n",
       "      <td>132.0</td>\n",
       "      <td>0.99400</td>\n",
       "      <td>3.30</td>\n",
       "      <td>0.49</td>\n",
       "      <td>9.5</td>\n",
       "      <td>6</td>\n",
       "    </tr>\n",
       "    <tr>\n",
       "      <td>2</td>\n",
       "      <td>8.1</td>\n",
       "      <td>0.28</td>\n",
       "      <td>0.40</td>\n",
       "      <td>6.9</td>\n",
       "      <td>0.050</td>\n",
       "      <td>30.0</td>\n",
       "      <td>97.0</td>\n",
       "      <td>0.99510</td>\n",
       "      <td>3.26</td>\n",
       "      <td>0.44</td>\n",
       "      <td>10.1</td>\n",
       "      <td>6</td>\n",
       "    </tr>\n",
       "    <tr>\n",
       "      <td>3</td>\n",
       "      <td>7.2</td>\n",
       "      <td>0.23</td>\n",
       "      <td>0.32</td>\n",
       "      <td>8.5</td>\n",
       "      <td>0.058</td>\n",
       "      <td>47.0</td>\n",
       "      <td>186.0</td>\n",
       "      <td>0.99560</td>\n",
       "      <td>3.19</td>\n",
       "      <td>0.40</td>\n",
       "      <td>9.9</td>\n",
       "      <td>6</td>\n",
       "    </tr>\n",
       "    <tr>\n",
       "      <td>4</td>\n",
       "      <td>7.2</td>\n",
       "      <td>0.23</td>\n",
       "      <td>0.32</td>\n",
       "      <td>8.5</td>\n",
       "      <td>0.058</td>\n",
       "      <td>47.0</td>\n",
       "      <td>186.0</td>\n",
       "      <td>0.99560</td>\n",
       "      <td>3.19</td>\n",
       "      <td>0.40</td>\n",
       "      <td>9.9</td>\n",
       "      <td>6</td>\n",
       "    </tr>\n",
       "    <tr>\n",
       "      <td>...</td>\n",
       "      <td>...</td>\n",
       "      <td>...</td>\n",
       "      <td>...</td>\n",
       "      <td>...</td>\n",
       "      <td>...</td>\n",
       "      <td>...</td>\n",
       "      <td>...</td>\n",
       "      <td>...</td>\n",
       "      <td>...</td>\n",
       "      <td>...</td>\n",
       "      <td>...</td>\n",
       "      <td>...</td>\n",
       "    </tr>\n",
       "    <tr>\n",
       "      <td>4893</td>\n",
       "      <td>6.2</td>\n",
       "      <td>0.21</td>\n",
       "      <td>0.29</td>\n",
       "      <td>1.6</td>\n",
       "      <td>0.039</td>\n",
       "      <td>24.0</td>\n",
       "      <td>92.0</td>\n",
       "      <td>0.99114</td>\n",
       "      <td>3.27</td>\n",
       "      <td>0.50</td>\n",
       "      <td>11.2</td>\n",
       "      <td>6</td>\n",
       "    </tr>\n",
       "    <tr>\n",
       "      <td>4894</td>\n",
       "      <td>6.6</td>\n",
       "      <td>0.32</td>\n",
       "      <td>0.36</td>\n",
       "      <td>8.0</td>\n",
       "      <td>0.047</td>\n",
       "      <td>57.0</td>\n",
       "      <td>168.0</td>\n",
       "      <td>0.99490</td>\n",
       "      <td>3.15</td>\n",
       "      <td>0.46</td>\n",
       "      <td>9.6</td>\n",
       "      <td>5</td>\n",
       "    </tr>\n",
       "    <tr>\n",
       "      <td>4895</td>\n",
       "      <td>6.5</td>\n",
       "      <td>0.24</td>\n",
       "      <td>0.19</td>\n",
       "      <td>1.2</td>\n",
       "      <td>0.041</td>\n",
       "      <td>30.0</td>\n",
       "      <td>111.0</td>\n",
       "      <td>0.99254</td>\n",
       "      <td>2.99</td>\n",
       "      <td>0.46</td>\n",
       "      <td>9.4</td>\n",
       "      <td>6</td>\n",
       "    </tr>\n",
       "    <tr>\n",
       "      <td>4896</td>\n",
       "      <td>5.5</td>\n",
       "      <td>0.29</td>\n",
       "      <td>0.30</td>\n",
       "      <td>1.1</td>\n",
       "      <td>0.022</td>\n",
       "      <td>20.0</td>\n",
       "      <td>110.0</td>\n",
       "      <td>0.98869</td>\n",
       "      <td>3.34</td>\n",
       "      <td>0.38</td>\n",
       "      <td>12.8</td>\n",
       "      <td>7</td>\n",
       "    </tr>\n",
       "    <tr>\n",
       "      <td>4897</td>\n",
       "      <td>6.0</td>\n",
       "      <td>0.21</td>\n",
       "      <td>0.38</td>\n",
       "      <td>0.8</td>\n",
       "      <td>0.020</td>\n",
       "      <td>22.0</td>\n",
       "      <td>98.0</td>\n",
       "      <td>0.98941</td>\n",
       "      <td>3.26</td>\n",
       "      <td>0.32</td>\n",
       "      <td>11.8</td>\n",
       "      <td>6</td>\n",
       "    </tr>\n",
       "  </tbody>\n",
       "</table>\n",
       "<p>4898 rows × 12 columns</p>\n",
       "</div>"
      ],
      "text/plain": [
       "      fixed acidity  volatile acidity  citric acid  residual sugar  chlorides  \\\n",
       "0               7.0              0.27         0.36            20.7      0.045   \n",
       "1               6.3              0.30         0.34             1.6      0.049   \n",
       "2               8.1              0.28         0.40             6.9      0.050   \n",
       "3               7.2              0.23         0.32             8.5      0.058   \n",
       "4               7.2              0.23         0.32             8.5      0.058   \n",
       "...             ...               ...          ...             ...        ...   \n",
       "4893            6.2              0.21         0.29             1.6      0.039   \n",
       "4894            6.6              0.32         0.36             8.0      0.047   \n",
       "4895            6.5              0.24         0.19             1.2      0.041   \n",
       "4896            5.5              0.29         0.30             1.1      0.022   \n",
       "4897            6.0              0.21         0.38             0.8      0.020   \n",
       "\n",
       "      free sulfur dioxide  total sulfur dioxide  density    pH  sulphates  \\\n",
       "0                    45.0                 170.0  1.00100  3.00       0.45   \n",
       "1                    14.0                 132.0  0.99400  3.30       0.49   \n",
       "2                    30.0                  97.0  0.99510  3.26       0.44   \n",
       "3                    47.0                 186.0  0.99560  3.19       0.40   \n",
       "4                    47.0                 186.0  0.99560  3.19       0.40   \n",
       "...                   ...                   ...      ...   ...        ...   \n",
       "4893                 24.0                  92.0  0.99114  3.27       0.50   \n",
       "4894                 57.0                 168.0  0.99490  3.15       0.46   \n",
       "4895                 30.0                 111.0  0.99254  2.99       0.46   \n",
       "4896                 20.0                 110.0  0.98869  3.34       0.38   \n",
       "4897                 22.0                  98.0  0.98941  3.26       0.32   \n",
       "\n",
       "      alcohol  quality  \n",
       "0         8.8        6  \n",
       "1         9.5        6  \n",
       "2        10.1        6  \n",
       "3         9.9        6  \n",
       "4         9.9        6  \n",
       "...       ...      ...  \n",
       "4893     11.2        6  \n",
       "4894      9.6        5  \n",
       "4895      9.4        6  \n",
       "4896     12.8        7  \n",
       "4897     11.8        6  \n",
       "\n",
       "[4898 rows x 12 columns]"
      ]
     },
     "execution_count": 3,
     "metadata": {},
     "output_type": "execute_result"
    }
   ],
   "source": [
    "df_white"
   ]
  },
  {
   "cell_type": "code",
   "execution_count": 4,
   "metadata": {},
   "outputs": [
    {
     "name": "stdout",
     "output_type": "stream",
     "text": [
      "fixed acidity           0\n",
      "volatile acidity        0\n",
      "citric acid             0\n",
      "residual sugar          0\n",
      "chlorides               0\n",
      "free sulfur dioxide     0\n",
      "total sulfur dioxide    0\n",
      "density                 0\n",
      "pH                      0\n",
      "sulphates               0\n",
      "alcohol                 0\n",
      "quality                 0\n",
      "dtype: int64\n"
     ]
    }
   ],
   "source": [
    "print(df_white.isnull().sum())"
   ]
  },
  {
   "cell_type": "markdown",
   "metadata": {},
   "source": [
    "## White wine"
   ]
  },
  {
   "cell_type": "markdown",
   "metadata": {},
   "source": [
    "### Visualization\n",
    "#### It is very complex to analyse all value by building a model. Therefore, we have to predict which values is most affected the quality of white wine.  In order to achieve it, we use the boxplot to determine which value is most affected the quality of white wine"
   ]
  },
  {
   "cell_type": "markdown",
   "metadata": {},
   "source": [
    "#### By plotting the boxplot(Quality vs. Input variables), by looking the boxplot, we will choose which variables have influence on wine quality"
   ]
  },
  {
   "cell_type": "code",
   "execution_count": 5,
   "metadata": {},
   "outputs": [
    {
     "data": {
      "text/plain": [
       "Text(0.5, 1.0, 'fixed acidity')"
      ]
     },
     "execution_count": 5,
     "metadata": {},
     "output_type": "execute_result"
    },
    {
     "data": {
      "image/png": "[encoded data removed]",
      "text/plain": [
       "<Figure size 432x288 with 1 Axes>"
      ]
     },
     "metadata": {
      "needs_background": "light"
     },
     "output_type": "display_data"
    }
   ],
   "source": [
    "sns.boxplot(x='quality',y = 'fixed acidity', data= df_white)\n",
    "plt.title(\"fixed acidity\")"
   ]
  },
  {
   "cell_type": "markdown",
   "metadata": {},
   "source": [
    "From above boxplot, we can see that quality don't change between 4 to 7"
   ]
  },
  {
   "cell_type": "code",
   "execution_count": 6,
   "metadata": {},
   "outputs": [
    {
     "data": {
      "text/plain": [
       "Text(0.5, 1.0, 'volatile acidity')"
      ]
     },
     "execution_count": 6,
     "metadata": {},
     "output_type": "execute_result"
    },
    {
     "data": {
      "image/png": "[encoded data removed]",
      "text/plain": [
       "<Figure size 432x288 with 1 Axes>"
      ]
     },
     "metadata": {
      "needs_background": "light"
     },
     "output_type": "display_data"
    }
   ],
   "source": [
    "sns.boxplot(x='quality',y = 'volatile acidity', data= df_white)\n",
    "plt.title(\"volatile acidity\")"
   ]
  },
  {
   "cell_type": "code",
   "execution_count": 7,
   "metadata": {},
   "outputs": [
    {
     "data": {
      "text/plain": [
       "Text(0.5, 1.0, 'citric acid')"
      ]
     },
     "execution_count": 7,
     "metadata": {},
     "output_type": "execute_result"
    },
    {
     "data": {
      "image/png": "[encoded data removed]",
      "text/plain": [
       "<Figure size 432x288 with 1 Axes>"
      ]
     },
     "metadata": {
      "needs_background": "light"
     },
     "output_type": "display_data"
    }
   ],
   "source": [
    "sns.boxplot(x='quality',y = 'citric acid', data= df_white)\n",
    "plt.title(\"citric acid\")"
   ]
  },
  {
   "cell_type": "code",
   "execution_count": 8,
   "metadata": {},
   "outputs": [
    {
     "data": {
      "text/plain": [
       "Text(0.5, 1.0, 'residual sugar')"
      ]
     },
     "execution_count": 8,
     "metadata": {},
     "output_type": "execute_result"
    },
    {
     "data": {
      "image/png": "[encoded data removed]",
      "text/plain": [
       "<Figure size 432x288 with 1 Axes>"
      ]
     },
     "metadata": {
      "needs_background": "light"
     },
     "output_type": "display_data"
    }
   ],
   "source": [
    "sns.boxplot(x='quality',y = 'residual sugar', data= df_white)\n",
    "plt.title(\"residual sugar\")"
   ]
  },
  {
   "cell_type": "code",
   "execution_count": 9,
   "metadata": {},
   "outputs": [
    {
     "data": {
      "text/plain": [
       "Text(0.5, 1.0, 'chlorides')"
      ]
     },
     "execution_count": 9,
     "metadata": {},
     "output_type": "execute_result"
    },
    {
     "data": {
      "image/png": "[encoded data removed]",
      "text/plain": [
       "<Figure size 432x288 with 1 Axes>"
      ]
     },
     "metadata": {
      "needs_background": "light"
     },
     "output_type": "display_data"
    }
   ],
   "source": [
    "sns.boxplot(x='quality',y = 'chlorides', data= df_white)\n",
    "plt.title(\"chlorides\")"
   ]
  },
  {
   "cell_type": "code",
   "execution_count": 10,
   "metadata": {},
   "outputs": [
    {
     "data": {
      "text/plain": [
       "Text(0.5, 1.0, 'free sulfur dioxide')"
      ]
     },
     "execution_count": 10,
     "metadata": {},
     "output_type": "execute_result"
    },
    {
     "data": {
      "image/png": "[encoded data removed]",
      "text/plain": [
       "<Figure size 432x288 with 1 Axes>"
      ]
     },
     "metadata": {
      "needs_background": "light"
     },
     "output_type": "display_data"
    }
   ],
   "source": [
    "sns.boxplot(x='quality',y = 'free sulfur dioxide', data= df_white)\n",
    "plt.title(\"free sulfur dioxide\")"
   ]
  },
  {
   "cell_type": "code",
   "execution_count": 11,
   "metadata": {},
   "outputs": [
    {
     "data": {
      "text/plain": [
       "Text(0.5, 1.0, 'density')"
      ]
     },
     "execution_count": 11,
     "metadata": {},
     "output_type": "execute_result"
    },
    {
     "data": {
      "image/png": "[encoded data removed]",
      "text/plain": [
       "<Figure size 432x288 with 1 Axes>"
      ]
     },
     "metadata": {
      "needs_background": "light"
     },
     "output_type": "display_data"
    }
   ],
   "source": [
    "sns.boxplot(x='quality',y = 'density', data= df_white)\n",
    "plt.title(\"density\")"
   ]
  },
  {
   "cell_type": "code",
   "execution_count": 12,
   "metadata": {},
   "outputs": [
    {
     "data": {
      "text/plain": [
       "Text(0.5, 1.0, 'pH')"
      ]
     },
     "execution_count": 12,
     "metadata": {},
     "output_type": "execute_result"
    },
    {
     "data": {
      "image/png": "[encoded data removed]",
      "text/plain": [
       "<Figure size 432x288 with 1 Axes>"
      ]
     },
     "metadata": {
      "needs_background": "light"
     },
     "output_type": "display_data"
    }
   ],
   "source": [
    "sns.boxplot(x='quality',y = 'pH', data= df_white)\n",
    "plt.title(\"pH\")"
   ]
  },
  {
   "cell_type": "code",
   "execution_count": 13,
   "metadata": {},
   "outputs": [
    {
     "data": {
      "text/plain": [
       "Text(0.5, 1.0, 'sulphates')"
      ]
     },
     "execution_count": 13,
     "metadata": {},
     "output_type": "execute_result"
    },
    {
     "data": {
      "image/png": "[encoded data removed]",
      "text/plain": [
       "<Figure size 432x288 with 1 Axes>"
      ]
     },
     "metadata": {
      "needs_background": "light"
     },
     "output_type": "display_data"
    }
   ],
   "source": [
    "sns.boxplot(x='quality',y = 'sulphates', data= df_white)\n",
    "plt.title(\"sulphates\")"
   ]
  },
  {
   "cell_type": "code",
   "execution_count": 14,
   "metadata": {},
   "outputs": [
    {
     "data": {
      "text/plain": [
       "Text(0.5, 1.0, 'alcohol')"
      ]
     },
     "execution_count": 14,
     "metadata": {},
     "output_type": "execute_result"
    },
    {
     "data": {
      "image/png": "[encoded data removed]",
      "text/plain": [
       "<Figure size 432x288 with 1 Axes>"
      ]
     },
     "metadata": {
      "needs_background": "light"
     },
     "output_type": "display_data"
    }
   ],
   "source": [
    "sns.boxplot(x='quality',y = 'alcohol', data= df_white)\n",
    "plt.title(\"alcohol\")"
   ]
  },
  {
   "cell_type": "markdown",
   "metadata": {},
   "source": [
    "### From above all boxplot, we can come out to a predict conclusion, the value will affect the quality of white wine is:\n",
    "- `alcohol`\n",
    "- `density`\n",
    "- `residual sugar`\n",
    "- `volatile acidity`"
   ]
  },
  {
   "cell_type": "markdown",
   "metadata": {},
   "source": [
    "## Linear Regression"
   ]
  },
  {
   "cell_type": "code",
   "execution_count": 15,
   "metadata": {},
   "outputs": [],
   "source": [
    "#extract the variables\n",
    "Y = df_white['quality'].values\n",
    "X_alcohol = df_white['alcohol'].values\n",
    "X_density = df_white['density'].values\n",
    "X_residual_sugar = df_white['residual sugar'].values\n",
    "X_volatile_acidity = df_white['volatile acidity'].values"
   ]
  },
  {
   "cell_type": "markdown",
   "metadata": {},
   "source": [
    "### Alcohol's model"
   ]
  },
  {
   "cell_type": "code",
   "execution_count": 16,
   "metadata": {},
   "outputs": [
    {
     "name": "stdout",
     "output_type": "stream",
     "text": [
      "quality =  2.59 + 0.31 * alcohol\n",
      "quality =  5.84 + -0.3 * alcohol +  0.03 * alcohol^2\n",
      "quality =  41.61 + -10.28 * alcohol +  0.95 * alcohol^2 +  -0.03 * alcohol^3\n"
     ]
    }
   ],
   "source": [
    "## Create A, the augmented data array\n",
    "Y_train, Y_test, X1_train, X1_test = train_test_split(Y, X_alcohol,test_size=0.2)\n",
    "ones = np.ones(len(X1_train))\n",
    "squares = np.square(X1_train)\n",
    "cubes = np.power(X1_train,3)\n",
    "\n",
    "A_alcohol1 = np.vstack([ones,X1_train])\n",
    "A_alcohol1 = A_alcohol1.T\n",
    "A_alcohol2 = np.vstack([ones,X1_train,squares])\n",
    "A_alcohol2 = A_alcohol2.T\n",
    "A_alcohol3 = np.vstack([ones,X1_train,squares, cubes])\n",
    "A_alcohol3 = A_alcohol3.T\n",
    "\n",
    "\n",
    "w_alcohol1 = np.linalg.lstsq(A_alcohol1, Y_train, rcond=None)[0]\n",
    "w_alcohol2 = np.linalg.lstsq(A_alcohol2, Y_train, rcond=None)[0]\n",
    "w_alcohol3 = np.linalg.lstsq(A_alcohol3, Y_train, rcond=None)[0]\n",
    "print(\"quality = \",round(w_alcohol1[0], 2) , \"+\", round(w_alcohol1[1], 2), \"* alcohol\")\n",
    "print(\"quality = \",round(w_alcohol2[0], 2) , \"+\", round(w_alcohol2[1], 2), \"* alcohol + \", round(w_alcohol2[2], 2), \"* alcohol^2\")\n",
    "print(\"quality = \",round(w_alcohol3[0], 2) , \"+\", round(w_alcohol3[1], 2), \"* alcohol + \", round(w_alcohol3[2], 2), \"* alcohol^2 + \", round(w_alcohol3[3], 2), \"* alcohol^3\")"
   ]
  },
  {
   "cell_type": "code",
   "execution_count": 17,
   "metadata": {},
   "outputs": [],
   "source": [
    "lineinput = np.linspace(7,15,100)\n",
    "\n",
    "ones = np.ones(len(lineinput))\n",
    "squares = np.square(lineinput)\n",
    "cubes = np.power(lineinput,3)\n",
    "\n",
    "A_alcohol1 = np.vstack([ones, lineinput])\n",
    "A_alcohol2 = np.vstack([ones, lineinput, squares])\n",
    "A_alcohol3 = np.vstack([ones, lineinput, squares, cubes])\n",
    "\n",
    "yplot1_alcohol = np.round_(np.matmul(A_alcohol1.T,w_alcohol1))\n",
    "yplot2_alcohol = np.round_(np.matmul(A_alcohol2.T,w_alcohol2))\n",
    "yplot3_alcohol = np.round_(np.matmul(A_alcohol3.T,w_alcohol3))"
   ]
  },
  {
   "cell_type": "code",
   "execution_count": 18,
   "metadata": {},
   "outputs": [
    {
     "data": {
      "image/png": "[encoded data removed]",
      "text/plain": [
       "<Figure size 1080x360 with 3 Axes>"
      ]
     },
     "metadata": {
      "needs_background": "light"
     },
     "output_type": "display_data"
    }
   ],
   "source": [
    "# Plot the data\n",
    "# Plot the model\n",
    "fix, ax = plt.subplots(nrows=1,ncols=3,figsize=(15,5))\n",
    "ax[0].plot(X_alcohol,Y,'o',label=\"Data\")\n",
    "ax[0].plot(lineinput,yplot1_alcohol,label=\"Model 1\")\n",
    "ax[0].legend()\n",
    "\n",
    "ax[1].plot(X_alcohol,Y,'o',label=\"Data\")\n",
    "ax[1].plot(lineinput,yplot2_alcohol,label=\"Model 2\")\n",
    "ax[1].legend()\n",
    "\n",
    "ax[2].plot(X_alcohol,Y,'o',label=\"Data\")\n",
    "ax[2].plot(lineinput,yplot3_alcohol,label=\"Model 3\")\n",
    "ax[2].legend()\n",
    "plt.show()"
   ]
  },
  {
   "cell_type": "markdown",
   "metadata": {},
   "source": [
    "#### Alcohol's SSE"
   ]
  },
  {
   "cell_type": "code",
   "execution_count": 19,
   "metadata": {},
   "outputs": [
    {
     "name": "stdout",
     "output_type": "stream",
     "text": [
      "Model 1 SSE is:  787.0\n",
      "Model 2 SSE is:  783.0\n",
      "Model 3 SSE is:  783.0\n"
     ]
    },
    {
     "data": {
      "image/png": "[encoded data removed]",
      "text/plain": [
       "<Figure size 432x288 with 1 Axes>"
      ]
     },
     "metadata": {
      "needs_background": "light"
     },
     "output_type": "display_data"
    }
   ],
   "source": [
    "## Send the X values for plotting through the linear model\n",
    "ones = np.ones(len(X1_test))\n",
    "squares = np.square(X1_test)\n",
    "cubes = np.power(X1_test,3)\n",
    "\n",
    "A_alcohol1 = np.vstack([ones, X1_test])\n",
    "A_alcohol2 = np.vstack([ones, X1_test, squares])\n",
    "A_alcohol3 = np.vstack([ones, X1_test, squares, cubes])\n",
    "\n",
    "y1_alcohol = np.round_(np.matmul(A_alcohol1.T,w_alcohol1))\n",
    "y2_alcohol = np.round_(np.matmul(A_alcohol2.T,w_alcohol2))\n",
    "y3_alcohol = np.round_(np.matmul(A_alcohol3.T,w_alcohol3))\n",
    "\n",
    "SSE1 = sum(np.square(y1_alcohol - Y_test))\n",
    "SSE2 = sum(np.square(y2_alcohol - Y_test))\n",
    "SSE3 = sum(np.square(y3_alcohol - Y_test))\n",
    "print(\"Model 1 SSE is: \", SSE1)\n",
    "print(\"Model 2 SSE is: \", SSE2)\n",
    "print(\"Model 3 SSE is: \", SSE3)\n",
    "SSE = ('SSE1', 'SSE2', 'SSE3')\n",
    "y_pos = np.arange(len(SSE))\n",
    "SSE_value = [SSE1,SSE2,SSE3]\n",
    "\n",
    "plt.bar(y_pos, SSE_value, align='center', alpha=0.5)\n",
    "plt.xticks(y_pos,SSE)\n",
    "plt.ylabel(\"SSE\")\n",
    "plt.show()"
   ]
  },
  {
   "cell_type": "markdown",
   "metadata": {},
   "source": [
    "From the histogram above, Model 3 have the lower SSE. Therefore, the best model of Alcohol is \n",
    "`quality =  48.62 + -12.25 * alcohol +  1.13 * alcohol^2 +  -0.03 * alcohol^3`"
   ]
  },
  {
   "cell_type": "markdown",
   "metadata": {},
   "source": [
    "### Density's model"
   ]
  },
  {
   "cell_type": "code",
   "execution_count": 20,
   "metadata": {},
   "outputs": [
    {
     "name": "stdout",
     "output_type": "stream",
     "text": [
      "quality =  94.0 + -88.65 * density\n",
      "quality =  3517.77 + -6965.79 * density +  3453.4 * density^2\n",
      "quality =  318822.35 + -945871.34 * density +  935233.07 * density^2 +  -308178.43 * density^3\n"
     ]
    }
   ],
   "source": [
    "## Create A, the augmented data array\n",
    "Y2_train, Y2_test, X2_train, X2_test = train_test_split(Y, X_density,test_size=0.2)\n",
    "ones = np.ones(len(X2_train))\n",
    "squares = np.square(X2_train)\n",
    "cubes = np.power(X2_train,3)\n",
    "\n",
    "A_density1 = np.vstack([ones,X2_train])\n",
    "A_density1 = A_density1.T\n",
    "A_density2 = np.vstack([ones,X2_train,squares])\n",
    "A_density2 = A_density2.T\n",
    "A_density3 = np.vstack([ones,X2_train,squares, cubes])\n",
    "A_density3 = A_density3.T\n",
    "\n",
    "\n",
    "w_density1 = np.linalg.lstsq(A_density1, Y2_train, rcond=None)[0]\n",
    "w_density2 = np.linalg.lstsq(A_density2, Y2_train, rcond=None)[0]\n",
    "w_density3 = np.linalg.lstsq(A_density3, Y2_train, rcond=None)[0]\n",
    "print(\"quality = \",round(w_density1[0], 2) , \"+\", round(w_density1[1], 2), \"* density\")\n",
    "print(\"quality = \",round(w_density2[0], 2) , \"+\", round(w_density2[1], 2), \"* density + \", round(w_density2[2], 2), \"* density^2\")\n",
    "print(\"quality = \",round(w_density3[0], 2) , \"+\", round(w_density3[1], 2), \"* density + \", round(w_density3[2], 2), \"* density^2 + \", round(w_density3[3], 2), \"* density^3\")"
   ]
  },
  {
   "cell_type": "code",
   "execution_count": 21,
   "metadata": {},
   "outputs": [],
   "source": [
    "## Create a smooth set of X values for plotting the model\n",
    "lineinput = np.linspace(0.98,1.04,3)\n",
    "\n",
    "## Send the X values for plotting through the linear model\n",
    "ones = np.ones(len(lineinput))\n",
    "squares = np.square(lineinput)\n",
    "cubes = np.power(lineinput,3)\n",
    "\n",
    "A_density1 = np.vstack([ones, lineinput])\n",
    "A_density2 = np.vstack([ones, lineinput, squares])\n",
    "A_density3 = np.vstack([ones, lineinput, squares, cubes])\n",
    "\n",
    "yplot1_density = np.round_(np.matmul(A_density1.T,w_density1))\n",
    "yplot2_density = np.round_(np.matmul(A_density2.T,w_density2))\n",
    "yplot3_density = np.round_(np.matmul(A_density3.T,w_density3))"
   ]
  },
  {
   "cell_type": "code",
   "execution_count": 22,
   "metadata": {},
   "outputs": [
    {
     "data": {
      "image/png": "[encoded data removed]",
      "text/plain": [
       "<Figure size 1080x360 with 3 Axes>"
      ]
     },
     "metadata": {
      "needs_background": "light"
     },
     "output_type": "display_data"
    }
   ],
   "source": [
    "# Plot the data\n",
    "# Plot the model\n",
    "fix, ax = plt.subplots(nrows=1,ncols=3,figsize=(15,5))\n",
    "ax[0].plot(X_density,Y,'o',label=\"Data\")\n",
    "ax[0].plot(lineinput,yplot1_density,label=\"Model 1\")\n",
    "ax[0].legend()\n",
    "\n",
    "ax[1].plot(X_density,Y,'o',label=\"Data\")\n",
    "ax[1].plot(lineinput,yplot2_density,label=\"Model 2\")\n",
    "ax[1].legend()\n",
    "\n",
    "ax[2].plot(X_density,Y,'o',label=\"Data\")\n",
    "ax[2].plot(lineinput,yplot3_density,label=\"Model 3\")\n",
    "ax[2].legend()\n",
    "plt.show()"
   ]
  },
  {
   "cell_type": "markdown",
   "metadata": {},
   "source": [
    "#### Density's SSE"
   ]
  },
  {
   "cell_type": "code",
   "execution_count": 23,
   "metadata": {},
   "outputs": [
    {
     "name": "stdout",
     "output_type": "stream",
     "text": [
      "Model 1 SSE is:  806.0\n",
      "Model 2 SSE is:  810.0\n",
      "Model 3 SSE is:  788.0\n"
     ]
    },
    {
     "data": {
      "image/png": "[encoded data removed]",
      "text/plain": [
       "<Figure size 432x288 with 1 Axes>"
      ]
     },
     "metadata": {
      "needs_background": "light"
     },
     "output_type": "display_data"
    }
   ],
   "source": [
    "## Send the X values for plotting through the linear model\n",
    "ones = np.ones(len(X2_test))\n",
    "squares = np.square(X2_test)\n",
    "cubes = np.power(X2_test,3)\n",
    "\n",
    "A_density1 = np.vstack([ones, X2_test])\n",
    "A_density2 = np.vstack([ones, X2_test, squares])\n",
    "A_density3 = np.vstack([ones, X2_test, squares, cubes])\n",
    "\n",
    "y1_density = np.round_(np.matmul(A_density1.T,w_density1))\n",
    "y2_density = np.round_(np.matmul(A_density2.T,w_density2))\n",
    "y3_density = np.round_(np.matmul(A_density3.T,w_density3))\n",
    "SSE1 = sum(np.square(y1_density - Y2_test))\n",
    "SSE2 = sum(np.square(y2_density - Y2_test))\n",
    "SSE3 = sum(np.square(y3_density - Y2_test))\n",
    "print(\"Model 1 SSE is: \", SSE1)\n",
    "print(\"Model 2 SSE is: \", SSE2)\n",
    "print(\"Model 3 SSE is: \", SSE3)\n",
    "SSE = ('SSE1', 'SSE2', 'SSE3')\n",
    "y_pos = np.arange(len(SSE))\n",
    "SSE_value = [SSE1,SSE2,SSE3]\n",
    "\n",
    "plt.bar(y_pos, SSE_value, align='center', alpha=0.5)\n",
    "plt.xticks(y_pos,SSE)\n",
    "plt.ylabel(\"SSE\")\n",
    "plt.show()"
   ]
  },
  {
   "cell_type": "markdown",
   "metadata": {},
   "source": [
    "From the histogram above, Model 3 have the lower SSE. Therefore, the best model of Density is\n",
    "`quality =  303481.16 + -900194.06 * density +  889910.18 * density^2 +  -293191.67 * density^3`"
   ]
  },
  {
   "cell_type": "markdown",
   "metadata": {},
   "source": [
    "### Residual sugar's model"
   ]
  },
  {
   "cell_type": "code",
   "execution_count": 24,
   "metadata": {},
   "outputs": [
    {
     "name": "stdout",
     "output_type": "stream",
     "text": [
      "quality =  5.98 + -0.02 * residual_sugar\n",
      "quality =  5.99 + -0.02 * residual_sugar +  0.0 * residual_sugar^2\n",
      "quality =  5.92 + 0.01 * residual_sugar +  -0.0 * residual_sugar^2 +  0.0 * residual_sugar^3\n"
     ]
    }
   ],
   "source": [
    "## Create A, the augmented data array\n",
    "Y3_train, Y3_test, X3_train, X3_test = train_test_split(Y, X_residual_sugar,test_size=0.2)\n",
    "ones = np.ones(len(X3_train))\n",
    "squares = np.square(X3_train)\n",
    "cubes = np.power(X3_train,3)\n",
    "\n",
    "A_residual_sugar1 = np.vstack([ones,X3_train])\n",
    "A_residual_sugar1 = A_residual_sugar1.T\n",
    "A_residual_sugar2 = np.vstack([ones,X3_train,squares])\n",
    "A_residual_sugar2 = A_residual_sugar2.T\n",
    "A_residual_sugar3 = np.vstack([ones,X3_train,squares, cubes])\n",
    "A_residual_sugar3 = A_residual_sugar3.T\n",
    "\n",
    "\n",
    "w_residual_sugar1 = np.linalg.lstsq(A_residual_sugar1, Y3_train, rcond=None)[0]\n",
    "w_residual_sugar2 = np.linalg.lstsq(A_residual_sugar2, Y3_train, rcond=None)[0]\n",
    "w_residual_sugar3 = np.linalg.lstsq(A_residual_sugar3, Y3_train, rcond=None)[0]\n",
    "print(\"quality = \",round(w_residual_sugar1[0], 2) , \"+\", round(w_residual_sugar1[1], 2), \"* residual_sugar\")\n",
    "print(\"quality = \",round(w_residual_sugar2[0], 2) , \"+\", round(w_residual_sugar2[1], 2), \"* residual_sugar + \", round(w_residual_sugar2[2], 2), \"* residual_sugar^2\")\n",
    "print(\"quality = \",round(w_residual_sugar3[0], 2) , \"+\", round(w_residual_sugar3[1], 2), \"* residual_sugar + \", round(w_residual_sugar3[2], 2), \"* residual_sugar^2 + \", round(w_residual_sugar3[3], 2), \"* residual_sugar^3\")"
   ]
  },
  {
   "cell_type": "code",
   "execution_count": 25,
   "metadata": {},
   "outputs": [],
   "source": [
    "## Create a smooth set of X values for plotting the model\n",
    "lineinput = np.linspace(0,70,10)\n",
    "\n",
    "## Send the X values for plotting through the linear model\n",
    "ones = np.ones(len(lineinput))\n",
    "squares = np.square(lineinput)\n",
    "cubes = np.power(lineinput,3)\n",
    "\n",
    "A_residual_sugar1 = np.vstack([ones, lineinput])\n",
    "A_residual_sugar2 = np.vstack([ones, lineinput, squares])\n",
    "A_residual_sugar3 = np.vstack([ones, lineinput, squares, cubes])\n",
    "\n",
    "yplot1_residual_sugar = np.round_(np.matmul(A_residual_sugar1.T,w_residual_sugar1))\n",
    "yplot2_residual_sugar = np.round_(np.matmul(A_residual_sugar2.T,w_residual_sugar2))\n",
    "yplot3_residual_sugar = np.round_(np.matmul(A_residual_sugar3.T,w_residual_sugar3))"
   ]
  },
  {
   "cell_type": "code",
   "execution_count": 26,
   "metadata": {},
   "outputs": [
    {
     "data": {
      "image/png": "[encoded data removed]",
      "text/plain": [
       "<Figure size 1080x360 with 3 Axes>"
      ]
     },
     "metadata": {
      "needs_background": "light"
     },
     "output_type": "display_data"
    }
   ],
   "source": [
    "# Plot the data\n",
    "# Plot the model\n",
    "fix, ax = plt.subplots(nrows=1,ncols=3,figsize=(15,5))\n",
    "ax[0].plot(X_residual_sugar,Y,'o',label=\"Data\")\n",
    "ax[0].plot(lineinput,yplot1_residual_sugar,label=\"Model 1\")\n",
    "ax[0].legend()\n",
    "\n",
    "ax[1].plot(X_residual_sugar,Y,'o',label=\"Data\")\n",
    "ax[1].plot(lineinput,yplot2_residual_sugar,label=\"Model 2\")\n",
    "ax[1].legend()\n",
    "\n",
    "ax[2].plot(X_residual_sugar,Y,'o',label=\"Data\")\n",
    "ax[2].plot(lineinput,yplot3_residual_sugar,label=\"Model 3\")\n",
    "ax[2].legend()\n",
    "plt.show()"
   ]
  },
  {
   "cell_type": "markdown",
   "metadata": {},
   "source": [
    "#### Residual sugar's SSE"
   ]
  },
  {
   "cell_type": "code",
   "execution_count": 27,
   "metadata": {},
   "outputs": [
    {
     "name": "stdout",
     "output_type": "stream",
     "text": [
      "Model 1 SSE is:  804.0\n",
      "Model 2 SSE is:  804.0\n",
      "Model 3 SSE is:  805.0\n"
     ]
    },
    {
     "data": {
      "image/png": "[encoded data removed]",
      "text/plain": [
       "<Figure size 432x288 with 1 Axes>"
      ]
     },
     "metadata": {
      "needs_background": "light"
     },
     "output_type": "display_data"
    }
   ],
   "source": [
    "## Send the X values for plotting through the linear model\n",
    "ones = np.ones(len(X3_test))\n",
    "squares = np.square(X3_test)\n",
    "cubes = np.power(X3_test,3)\n",
    "\n",
    "A_residual_sugar1 = np.vstack([ones, X3_test])\n",
    "A_residual_sugar2 = np.vstack([ones, X3_test, squares])\n",
    "A_residual_sugar3 = np.vstack([ones, X3_test, squares, cubes])\n",
    "\n",
    "y1_residual_sugar = np.round_(np.matmul(A_residual_sugar1.T,w_residual_sugar1))\n",
    "y2_residual_sugar = np.round_(np.matmul(A_residual_sugar2.T,w_residual_sugar2))\n",
    "y3_residual_sugar = np.round_(np.matmul(A_residual_sugar3.T,w_residual_sugar3))\n",
    "SSE1 = sum(np.square(y1_residual_sugar - Y3_test))\n",
    "SSE2 = sum(np.square(y2_residual_sugar - Y3_test))\n",
    "SSE3 = sum(np.square(y3_residual_sugar - Y3_test))\n",
    "print(\"Model 1 SSE is: \", SSE1)\n",
    "print(\"Model 2 SSE is: \", SSE2)\n",
    "print(\"Model 3 SSE is: \", SSE3)\n",
    "SSE = ('SSE1', 'SSE2', 'SSE3')\n",
    "y_pos = np.arange(len(SSE))\n",
    "SSE_value = [SSE1,SSE2,SSE3]\n",
    "\n",
    "plt.bar(y_pos, SSE_value, align='center', alpha=0.5)\n",
    "plt.xticks(y_pos,SSE)\n",
    "plt.ylabel(\"SSE\")\n",
    "plt.show()"
   ]
  },
  {
   "cell_type": "markdown",
   "metadata": {},
   "source": [
    "From the histogram above, Model 3 have the lower SSE. Therefore, the best model of Residual sugar is\n",
    "\n",
    "`quality =  5.9 + 0.02 * residual_sugar +  -0.0 * residual_sugar^2 +  0.0 * residual_sugar^3`"
   ]
  },
  {
   "cell_type": "markdown",
   "metadata": {},
   "source": [
    "### Volatile acidity’s model"
   ]
  },
  {
   "cell_type": "code",
   "execution_count": 28,
   "metadata": {},
   "outputs": [
    {
     "name": "stdout",
     "output_type": "stream",
     "text": [
      "quality =  6.84 + -5.92 * volatile_acidity +  10.43 * volatile_acidity^2 +  -7.51 * volatile_acidity^3\n"
     ]
    }
   ],
   "source": [
    "## Create A, the augmented data array\n",
    "Y4_train, Y4_test, X4_train, X4_test = train_test_split(Y, X_volatile_acidity,test_size=0.2)\n",
    "ones = np.ones(len(X4_train))\n",
    "squares = np.square(X4_train)\n",
    "cubes = np.power(X4_train,3)\n",
    "\n",
    "A_volatile_acidity1 = np.vstack([ones,X4_train])\n",
    "A_volatile_acidity1 = A_volatile_acidity1.T\n",
    "A_volatile_acidity2 = np.vstack([ones,X4_train,squares])\n",
    "A_volatile_acidity2 = A_volatile_acidity2.T\n",
    "A_volatile_acidity3 = np.vstack([ones,X4_train,squares, cubes])\n",
    "A_volatile_acidity3 = A_volatile_acidity3.T\n",
    "\n",
    "\n",
    "w_volatile_acidity1 = np.linalg.lstsq(A_volatile_acidity1, Y4_train, rcond=None)[0]\n",
    "w_volatile_acidity2 = np.linalg.lstsq(A_volatile_acidity2, Y4_train, rcond=None)[0]\n",
    "w_volatile_acidity3 = np.linalg.lstsq(A_volatile_acidity3, Y4_train, rcond=None)[0]\n",
    "\n",
    "print(\"quality = \",round(w_volatile_acidity3[0], 2) , \"+\", round(w_volatile_acidity3[1], 2), \"* volatile_acidity + \", round(w_volatile_acidity3[2], 2), \"* volatile_acidity^2 + \", round(w_volatile_acidity3[3], 2), \"* volatile_acidity^3\")"
   ]
  },
  {
   "cell_type": "code",
   "execution_count": 29,
   "metadata": {},
   "outputs": [],
   "source": [
    "## Create a smooth set of X values for plotting the model\n",
    "lineinput = np.linspace(0,1.25,10)\n",
    "\n",
    "ones = np.ones(len(lineinput))\n",
    "squares = np.square(lineinput)\n",
    "cubes = np.power(lineinput,3)\n",
    "\n",
    "A_volatile_acidity1 = np.vstack([ones, lineinput])\n",
    "A_volatile_acidity2 = np.vstack([ones, lineinput, squares])\n",
    "A_volatile_acidity3 = np.vstack([ones, lineinput, squares, cubes])\n",
    "\n",
    "yplot1_volatile_acidity = np.round_(np.matmul(A_volatile_acidity1.T,w_volatile_acidity1))\n",
    "yplot2_volatile_acidity = np.round_(np.matmul(A_volatile_acidity2.T,w_volatile_acidity2))\n",
    "yplot3_volatile_acidity = np.round_(np.matmul(A_volatile_acidity3.T,w_volatile_acidity3))"
   ]
  },
  {
   "cell_type": "code",
   "execution_count": 30,
   "metadata": {},
   "outputs": [
    {
     "data": {
      "image/png": "[encoded data removed]",
      "text/plain": [
       "<Figure size 1080x360 with 3 Axes>"
      ]
     },
     "metadata": {
      "needs_background": "light"
     },
     "output_type": "display_data"
    }
   ],
   "source": [
    "# Plot the data\n",
    "# Plot the model\n",
    "fix, ax = plt.subplots(nrows=1,ncols=3,figsize=(15,5))\n",
    "ax[0].plot(X_volatile_acidity,Y,'o',label=\"Data\")\n",
    "ax[0].plot(lineinput,yplot1_volatile_acidity,label=\"Model 1\")\n",
    "ax[0].legend()\n",
    "\n",
    "ax[1].plot(X_volatile_acidity,Y,'o',label=\"Data\")\n",
    "ax[1].plot(lineinput,yplot2_volatile_acidity,label=\"Model 2\")\n",
    "ax[1].legend()\n",
    "\n",
    "ax[2].plot(X_volatile_acidity,Y,'o',label=\"Data\")\n",
    "ax[2].plot(lineinput,yplot3_volatile_acidity,label=\"Model 3\")\n",
    "ax[2].legend()\n",
    "plt.show()"
   ]
  },
  {
   "cell_type": "markdown",
   "metadata": {},
   "source": [
    "#### Volatile acidity’s SSE"
   ]
  },
  {
   "cell_type": "code",
   "execution_count": 31,
   "metadata": {},
   "outputs": [
    {
     "name": "stdout",
     "output_type": "stream",
     "text": [
      "Model 1 SSE is:  789.0\n",
      "Model 2 SSE is:  790.0\n",
      "Model 3 SSE is:  782.0\n"
     ]
    },
    {
     "data": {
      "image/png": "[encoded data removed]",
      "text/plain": [
       "<Figure size 432x288 with 1 Axes>"
      ]
     },
     "metadata": {
      "needs_background": "light"
     },
     "output_type": "display_data"
    }
   ],
   "source": [
    "## Send the X values for plotting through the linear model\n",
    "ones = np.ones(len(X4_test))\n",
    "squares = np.square(X4_test)\n",
    "cubes = np.power(X4_test,3)\n",
    "\n",
    "A_volatile_acidity1 = np.vstack([ones, X4_test])\n",
    "A_volatile_acidity2 = np.vstack([ones, X4_test, squares])\n",
    "A_volatile_acidity3 = np.vstack([ones, X4_test, squares, cubes])\n",
    "\n",
    "y1_volatile_acidity = np.round_(np.matmul(A_volatile_acidity1.T,w_volatile_acidity1))\n",
    "y2_volatile_acidity = np.round_(np.matmul(A_volatile_acidity2.T,w_volatile_acidity2))\n",
    "y3_volatile_acidity = np.round_(np.matmul(A_volatile_acidity3.T,w_volatile_acidity3))\n",
    "\n",
    "SSE1 = sum(np.square(y1_volatile_acidity - Y4_test))\n",
    "SSE2 = sum(np.square(y2_volatile_acidity - Y4_test))\n",
    "SSE3 = sum(np.square(y3_volatile_acidity - Y4_test))\n",
    "print(\"Model 1 SSE is: \", SSE1)\n",
    "print(\"Model 2 SSE is: \", SSE2)\n",
    "print(\"Model 3 SSE is: \", SSE3)\n",
    "SSE = ('SSE1', 'SSE2', 'SSE3')\n",
    "y_pos = np.arange(len(SSE))\n",
    "SSE_value = [SSE1,SSE2,SSE3]\n",
    "\n",
    "plt.bar(y_pos, SSE_value, align='center', alpha=0.5)\n",
    "plt.xticks(y_pos,SSE)\n",
    "plt.ylabel(\"SSE\")\n",
    "plt.show()"
   ]
  },
  {
   "cell_type": "markdown",
   "metadata": {},
   "source": [
    "From the histogram above, Model 3 have the lower SSE. Therefore, the best model of Volatile acidity is\n",
    "`quality =  6.81 + -5.7 * volatile_acidity +  9.7 * volatile_acidity^2 +  -6.65 * volatile_acidity^3`"
   ]
  },
  {
   "cell_type": "markdown",
   "metadata": {},
   "source": [
    "# Conclusion "
   ]
  },
  {
   "cell_type": "markdown",
   "metadata": {},
   "source": [
    "From the boxplots above, we can get that alcohol, density, residual sugar and volatile acidity have influence on white wine quality. By calculate their own SSE, we come out with the best model for this 4 variables.\n",
    "- Alcohol best model is: `quality =  48.62 + -12.25 * alcohol +  1.13 * alcohol^2 +  -0.03 * alcohol^3`\n",
    "- Density best model is: `quality =  303481.16 + -900194.06 * density +  889910.18 * density^2 +  -293191.67 * density^3`\n",
    "- Residual sugar best model is: `quality =  5.9 + 0.02 * residual_sugar +  -0.0 * residual_sugar^2 +  0.0 * residual_sugar^3`\n",
    "- Volatile acidity best model is: `quality =  6.81 + -5.7 * volatile_acidity +  9.7 * volatile_acidity^2 +  -6.65 * volatile_acidity^3`"
   ]
  },
  {
   "cell_type": "code",
   "execution_count": null,
   "metadata": {},
   "outputs": [],
   "source": []
  }
 ],
 "metadata": {
  "kernelspec": {
   "display_name": "Python 3",
   "language": "python",
   "name": "python3"
  },
  "language_info": {
   "codemirror_mode": {
    "name": "ipython",
    "version": 3
   },
   "file_extension": ".py",
   "mimetype": "text/x-python",
   "name": "python",
   "nbconvert_exporter": "python",
   "pygments_lexer": "ipython3",
   "version": "3.7.4"
  }
 },
 "nbformat": 4,
 "nbformat_minor": 2
}
